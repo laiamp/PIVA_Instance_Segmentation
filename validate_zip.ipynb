{
 "cells": [
  {
   "cell_type": "code",
   "execution_count": null,
   "id": "1a8a04af",
   "metadata": {},
   "outputs": [],
   "source": [
    "import os\n",
    "import numpy as np\n",
    "from PIL import Image\n",
    "import shutil\n",
    "import random"
   ]
  },
  {
   "cell_type": "code",
   "execution_count": null,
   "id": "cf79027f",
   "metadata": {},
   "outputs": [],
   "source": [
    "!unzip dataset_person.zip\n",
    "#!rm -rf dataset_person"
   ]
  },
  {
   "cell_type": "code",
   "execution_count": null,
   "id": "e7a5eb3c",
   "metadata": {},
   "outputs": [],
   "source": [
    "ZIPFILE = 'G13_E02'\n",
    "TEST_FOLDER = \"dataset_person/test\""
   ]
  },
  {
   "cell_type": "code",
   "execution_count": null,
   "id": "cc19c21b",
   "metadata": {},
   "outputs": [],
   "source": []
  },
  {
   "cell_type": "code",
   "execution_count": null,
   "id": "dce4460b",
   "metadata": {},
   "outputs": [],
   "source": [
    "# Sample script to compute mean IoU of predictions in the TEST. MANDATORY to check this on your submission zip file before the final submission to atenea\n",
    "\n",
    "# unzip the file into a tmp folder\n",
    "os.makedirs(os.path.join(TEST_FOLDER,'tmp'))\n",
    "shutil.unpack_archive(ZIPFILE + '.zip',os.path.join(TEST_FOLDER,'tmp'))\n",
    "\n",
    "# Use a seed to control random generation\n",
    "r = random.Random(7)\n",
    "\n",
    "mIoU = 0.0\n",
    "\n",
    "for cnt,f in enumerate(open(os.path.join(TEST_FOLDER,'test_names.txt'),'r')):\n",
    "\n",
    "    b = f.strip()\n",
    "\n",
    "    # read test image (we do not needed it but here we will use it to get the size of GT)\n",
    "    im = Image.open(os.path.join(TEST_FOLDER,'images',b)+'.jpg')\n",
    "\n",
    "    # read GT image (as a test we can generate the fake predictions)\n",
    "    #gt = np.asarray(Image.open(os.path.join(TEST_FOLDER,'masks',b)+'.png'))\n",
    "    gt = np.zeros((im.height,im.width),np.uint8)\n",
    "    for o in range(r.randint(1,3)):\n",
    "        sx = r.randint(im.width//8,im.width//2)\n",
    "        x = r.randint(0,im.width-sx)\n",
    "        sy = r.randint(im.height//8,im.height//2)\n",
    "        y = r.randint(0,im.height-sy)\n",
    "        gt[y:y+sy,x:x+sx] = o+1\n",
    "    gtb = (gt>0) # we'll consider a global IoU for all objects\n",
    "\n",
    "    # read prediction image\n",
    "    pred = np.asarray(Image.open(os.path.join(TEST_FOLDER,'tmp',b)+'.png'))\n",
    "    predb = (pred>0) # we'll consider a global IoU for all objects\n",
    "\n",
    "    # Compute the global IoU in the image\n",
    "    overlap = gtb * predb\n",
    "    union   = gtb + predb\n",
    "    IoU = overlap.sum()/union.sum()\n",
    "\n",
    "    mIoU += IoU\n",
    "\n",
    "# Report results\n",
    "mIoU = mIoU / (cnt+1)\n",
    "print(f\"mIoU = {mIoU:0.4f}\")"
   ]
  }
 ],
 "metadata": {
  "language_info": {
   "name": "python"
  }
 },
 "nbformat": 4,
 "nbformat_minor": 5
}
